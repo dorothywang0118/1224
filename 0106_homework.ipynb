{
  "nbformat": 4,
  "nbformat_minor": 0,
  "metadata": {
    "colab": {
      "provenance": [],
      "toc_visible": true,
      "authorship_tag": "ABX9TyMEdMwHnJ6d+2LM2V4IrzAf",
      "include_colab_link": true
    },
    "kernelspec": {
      "name": "python3",
      "display_name": "Python 3"
    },
    "language_info": {
      "name": "python"
    }
  },
  "cells": [
    {
      "cell_type": "markdown",
      "metadata": {
        "id": "view-in-github",
        "colab_type": "text"
      },
      "source": [
        "<a href=\"https://colab.research.google.com/github/dorothywang0118/1224/blob/main/0106_homework.ipynb\" target=\"_parent\"><img src=\"https://colab.research.google.com/assets/colab-badge.svg\" alt=\"Open In Colab\"/></a>"
      ]
    },
    {
      "cell_type": "markdown",
      "source": [
        "# 作業"
      ],
      "metadata": {
        "id": "rZCIIROSpjRu"
      }
    },
    {
      "cell_type": "markdown",
      "source": [
        "第一題\n",
        "\n",
        "假設有一百層階梯，兩種走路方式：\n",
        "第一種是踏一層\n",
        "第二種是踏兩層\n",
        "請問到達一百層的時候，總共有幾種不同方式?\n"
      ],
      "metadata": {
        "id": "VsCwsCwcLeWB"
      }
    },
    {
      "cell_type": "code",
      "execution_count": null,
      "metadata": {
        "id": "kOydw1ffLCxU",
        "colab": {
          "base_uri": "https://localhost:8080/"
        },
        "outputId": "5e4bf11d-0585-4294-fa40-dc05e87bb0a0"
      },
      "outputs": [
        {
          "output_type": "stream",
          "name": "stdout",
          "text": [
            "走100階總共有 573147844013817084101 種方式\n"
          ]
        }
      ],
      "source": [
        "prev2, prev1 = 0, 0\n",
        "total = 100\n",
        "for i in range (total):\n",
        "    if i == 0:\n",
        "        ans = 1\n",
        "        prev1 = 1\n",
        "    elif i == 1:\n",
        "        ans = 2\n",
        "        prev2, prev1 = 1, 2\n",
        "    else:\n",
        "        ans = prev1 + prev2\n",
        "        prev2, prev1 = prev1, ans\n",
        "\n",
        "print(\"走100階總共有\", prev1, \"種方式\")\n"
      ]
    },
    {
      "cell_type": "markdown",
      "source": [
        "第二題\n",
        "\n",
        "凱薩密碼: 每個月設定一個數字，假設這數字 = 2  代表打每個英文字都要往後延兩個\n",
        "e.g. appley -> crrnga\n",
        "\n",
        "請破解加密過的文件"
      ],
      "metadata": {
        "id": "khP9qmqwRFBq"
      }
    },
    {
      "cell_type": "code",
      "source": [
        "secret = \"\"\"p adcv-tmetrits epgin\n",
        "\n",
        "lwtc bg. qxaqd qpvvxch du qpv tcs pccdjcrts iwpi wt ldjas hwdgian qt rtatqgpixcv wxh tatktcin-uxghi qxgiwspn lxiw p epgin du hetrxpa bpvcxuxrtcrt, iwtgt lph bjrw ipaz pcs tmrxitbtci xc wdqqxidc.\n",
        "\n",
        "qxaqd lph ktgn gxrw pcs ktgn etrjaxpg, pcs wps qttc iwt ldcstg du iwt hwxgt udg hxmin ntpgh, tktg hxcrt wxh gtbpgzpqat sxhpeetpgpcrt pcs jctmetrits gtijgc. iwt gxrwth wt wps qgdjvwi qprz ugdb wxh igpktah wps cdl qtrdbt p adrpa atvtcs, pcs xi lph edejapgan qtaxtkts, lwpitktg iwt das udaz bxvwi hpn, iwpi iwt wxaa pi qpv tcs lph ujaa du ijcctah hijuuts lxiw igtphjgt. pcs xu iwpi lph cdi tcdjvw udg upbt, iwtgt lph pahd wxh egdadcvts kxvdjg id bpgkta pi. ixbt ldgt dc, qji xi httbts id wpkt axiiat tuutri dc bg. qpvvxch. pi cxctin wt lph bjrw iwt hpbt ph pi uxuin. pi cxctin-cxct iwtn qtvpc id rpaa wxb ltaa-egthtgkts, qji jcrwpcvts ldjas wpkt qttc ctpgtg iwt bpgz. iwtgt ltgt hdbt iwpi hwddz iwtxg wtpsh pcs iwdjvwi iwxh lph idd bjrw du p vdds iwxcv; xi httbts jcupxg iwpi pcndct hwdjas edhhthh (peepgtcian) etgetijpa ndjiw ph ltaa ph (gtejitsan) xctmwpjhixqat ltpaiw.\n",
        "\n",
        "'xi lxaa wpkt id qt epxs udg,' iwtn hpxs. 'xi xhc'i cpijgpa, pcs igdjqat lxaa rdbt du xi!'\"\"\"\n",
        "# 原文最後一句: trouble will come of it\n",
        "\n",
        "def caesar(secret, password):\n",
        "  text = \"\"\n",
        "  with open(\"password.txt\", \"w\", encoding=\"utf-8\") as f:\n",
        "    # 全部轉換成小寫\n",
        "    for c in secret.lower():\n",
        "      # 將字母轉成編碼數字\n",
        "      if ord(\"a\") <= ord(c) <= ord(\"z\"):\n",
        "        n = ord(c) - ord(\"a\")\n",
        "        n = (n - password) % 26\n",
        "        text += (chr(n + ord(\"a\")))\n",
        "        f.write(chr(n + ord(\"a\")))\n",
        "      else:\n",
        "        f.write(c)\n",
        "  return(text)\n",
        "  f.close()\n",
        "\n",
        "for password in range(26):\n",
        " text = caesar(secret, password)\n",
        " if \"trouble\" in text:\n",
        "    print(\"密碼:\", {password}, \"解密後的文字為:\", text)\n",
        "    break"
      ],
      "metadata": {
        "id": "fQiHXiWAR-5J",
        "colab": {
          "base_uri": "https://localhost:8080/"
        },
        "outputId": "f321176b-fe81-45c1-a77e-3eb98c36f1ed"
      },
      "execution_count": null,
      "outputs": [
        {
          "output_type": "stream",
          "name": "stdout",
          "text": [
            "密碼: {15} 解密後的文字為: alongexpectedpartywhenmrbilbobagginsofbagendannouncedthathewouldshortlybecelebratinghiseleventyfirstbirthdaywithapartyofspecialmagnificencetherewasmuchtalkandexcitementinhobbitonbilbowasveryrichandverypeculiarandhadbeenthewonderoftheshireforsixtyyearseversincehisremarkabledisappearanceandunexpectedreturnthericheshehadbroughtbackfromhistravelshadnowbecomealocallegendanditwaspopularlybelievedwhatevertheoldfolkmightsaythatthehillatbagendwasfulloftunnelsstuffedwithtreasureandifthatwasnotenoughforfametherewasalsohisprolongedvigourtomarvelattimeworeonbutitseemedtohavelittleeffectonmrbagginsatninetyhewasmuchthesameasatfiftyatninetyninetheybegantocallhimwellpreservedbutunchangedwouldhavebeennearerthemarkthereweresomethatshooktheirheadsandthoughtthiswastoomuchofagoodthingitseemedunfairthatanyoneshouldpossessapparentlyperpetualyouthaswellasreputedlyinexhaustiblewealthitwillhavetobepaidfortheysaiditisntnaturalandtroublewillcomeofit\n"
          ]
        }
      ]
    },
    {
      "cell_type": "markdown",
      "source": [
        "# 其他筆記"
      ],
      "metadata": {
        "id": "y94Yg2DypYQf"
      }
    },
    {
      "cell_type": "markdown",
      "source": [
        "三個雙引號包住的東西，裡面就可以換行 = > \"\"\" xxxx \"\"\""
      ],
      "metadata": {
        "id": "VO1sOEBjRwKP"
      }
    },
    {
      "cell_type": "code",
      "source": [
        "from email import message\n",
        "import urllib.request as req\n",
        "\n",
        "url = \"https://github.com/Elwing-Chou/tibame1224/raw/refs/heads/main/password.txt\"\n",
        "req.urlretrieve(url, \"password.txt\")\n",
        "f = open(\"password.txt\", \"r\", encoding=\"utf-8\")\n",
        "message = f.read()\n",
        "print(message)\n",
        "f.close()\n",
        "\n",
        "# 密碼=某個值，我轉換成原文的程式長什麼樣?\n",
        "# 基於上面，做26次，看哪一個才是我的密碼。\n"
      ],
      "metadata": {
        "colab": {
          "base_uri": "https://localhost:8080/"
        },
        "collapsed": true,
        "id": "ZxWAjWBNSsqA",
        "outputId": "4bdbd1fc-8b42-4b23-ad81-4dbf3d78532f"
      },
      "execution_count": null,
      "outputs": [
        {
          "output_type": "stream",
          "name": "stdout",
          "text": [
            "p adcv-tmetrits epgin\n",
            "\n",
            "lwtc bg. qxaqd qpvvxch du qpv tcs pccdjcrts iwpi wt ldjas hwdgian qt rtatqgpixcv wxh tatktcin-uxghi qxgiwspn lxiw p epgin du hetrxpa bpvcxuxrtcrt, iwtgt lph bjrw ipaz pcs tmrxitbtci xc wdqqxidc.\n",
            "\n",
            "qxaqd lph ktgn gxrw pcs ktgn etrjaxpg, pcs wps qttc iwt ldcstg du iwt hwxgt udg hxmin ntpgh, tktg hxcrt wxh gtbpgzpqat sxhpeetpgpcrt pcs jctmetrits gtijgc. iwt gxrwth wt wps qgdjvwi qprz ugdb wxh igpktah wps cdl qtrdbt p adrpa atvtcs, pcs xi lph edejapgan qtaxtkts, lwpitktg iwt das udaz bxvwi hpn, iwpi iwt wxaa pi qpv tcs lph ujaa du ijcctah hijuuts lxiw igtphjgt. pcs xu iwpi lph cdi tcdjvw udg upbt, iwtgt lph pahd wxh egdadcvts kxvdjg id bpgkta pi. ixbt ldgt dc, qji xi httbts id wpkt axiiat tuutri dc bg. qpvvxch. pi cxctin wt lph bjrw iwt hpbt ph pi uxuin. pi cxctin-cxct iwtn qtvpc id rpaa wxb ltaa-egthtgkts, qji jcrwpcvts ldjas wpkt qttc ctpgtg iwt bpgz. iwtgt ltgt hdbt iwpi hwddz iwtxg wtpsh pcs iwdjvwi iwxh lph idd bjrw du p vdds iwxcv; xi httbts jcupxg iwpi pcndct hwdjas edhhthh (peepgtcian) etgetijpa ndjiw ph ltaa ph (gtejitsan) xctmwpjhixqat ltpaiw.\n",
            "\n",
            "'xi lxaa wpkt id qt epxs udg,' iwtn hpxs. 'xi xhc'i cpijgpa, pcs igdjqat lxaa rdbt du xi!'\n"
          ]
        }
      ]
    },
    {
      "cell_type": "code",
      "source": [
        "from typing import AnyStr\n",
        "# 九九乘法表 從1開始  x * y =\n",
        "for i in range(9):\n",
        "  n1 = i + 1\n",
        "  for j in range(9):\n",
        "    n2 = j + 1\n",
        "    ans = n1 * n2\n",
        "    print(n1, \"*\", n2, \"=\", ans)\n",
        "\n"
      ],
      "metadata": {
        "colab": {
          "base_uri": "https://localhost:8080/"
        },
        "collapsed": true,
        "id": "basqnBKQUfCk",
        "outputId": "120c2ccc-31ed-4b88-88d8-f62d5caad6fc"
      },
      "execution_count": null,
      "outputs": [
        {
          "output_type": "stream",
          "name": "stdout",
          "text": [
            "1 * 1 = 1\n",
            "1 * 2 = 2\n",
            "1 * 3 = 3\n",
            "1 * 4 = 4\n",
            "1 * 5 = 5\n",
            "1 * 6 = 6\n",
            "1 * 7 = 7\n",
            "1 * 8 = 8\n",
            "1 * 9 = 9\n",
            "2 * 1 = 2\n",
            "2 * 2 = 4\n",
            "2 * 3 = 6\n",
            "2 * 4 = 8\n",
            "2 * 5 = 10\n",
            "2 * 6 = 12\n",
            "2 * 7 = 14\n",
            "2 * 8 = 16\n",
            "2 * 9 = 18\n",
            "3 * 1 = 3\n",
            "3 * 2 = 6\n",
            "3 * 3 = 9\n",
            "3 * 4 = 12\n",
            "3 * 5 = 15\n",
            "3 * 6 = 18\n",
            "3 * 7 = 21\n",
            "3 * 8 = 24\n",
            "3 * 9 = 27\n",
            "4 * 1 = 4\n",
            "4 * 2 = 8\n",
            "4 * 3 = 12\n",
            "4 * 4 = 16\n",
            "4 * 5 = 20\n",
            "4 * 6 = 24\n",
            "4 * 7 = 28\n",
            "4 * 8 = 32\n",
            "4 * 9 = 36\n",
            "5 * 1 = 5\n",
            "5 * 2 = 10\n",
            "5 * 3 = 15\n",
            "5 * 4 = 20\n",
            "5 * 5 = 25\n",
            "5 * 6 = 30\n",
            "5 * 7 = 35\n",
            "5 * 8 = 40\n",
            "5 * 9 = 45\n",
            "6 * 1 = 6\n",
            "6 * 2 = 12\n",
            "6 * 3 = 18\n",
            "6 * 4 = 24\n",
            "6 * 5 = 30\n",
            "6 * 6 = 36\n",
            "6 * 7 = 42\n",
            "6 * 8 = 48\n",
            "6 * 9 = 54\n",
            "7 * 1 = 7\n",
            "7 * 2 = 14\n",
            "7 * 3 = 21\n",
            "7 * 4 = 28\n",
            "7 * 5 = 35\n",
            "7 * 6 = 42\n",
            "7 * 7 = 49\n",
            "7 * 8 = 56\n",
            "7 * 9 = 63\n",
            "8 * 1 = 8\n",
            "8 * 2 = 16\n",
            "8 * 3 = 24\n",
            "8 * 4 = 32\n",
            "8 * 5 = 40\n",
            "8 * 6 = 48\n",
            "8 * 7 = 56\n",
            "8 * 8 = 64\n",
            "8 * 9 = 72\n",
            "9 * 1 = 9\n",
            "9 * 2 = 18\n",
            "9 * 3 = 27\n",
            "9 * 4 = 36\n",
            "9 * 5 = 45\n",
            "9 * 6 = 54\n",
            "9 * 7 = 63\n",
            "9 * 8 = 72\n",
            "9 * 9 = 81\n"
          ]
        }
      ]
    },
    {
      "cell_type": "code",
      "source": [
        "第一題\n",
        "\n",
        "假設有一百層階梯，兩種走路方式： 第一種是踏一層 第二種是踏兩層 請問到達一百層的時候，總共有幾種不同方式?\n",
        "\n",
        "\n",
        "[ ]\n",
        "  1\n",
        "  2\n",
        "  3\n",
        "  4\n",
        "  5\n",
        "  6\n",
        "  7\n",
        "pre1, pre2 = 0, 0\n",
        "total = 100\n",
        "for i in range(total):\n",
        "    # 解決pre1 pre2 設定\n",
        "    # pass\n",
        "\n",
        "print(\"走100階總共有\", total, \"種方式\")\n",
        "\n",
        "\n",
        "\n",
        "第二題\n",
        "\n",
        "凱薩密碼: 每個月設定一個數字，假設這數字 = 2 代表打每個英文字都要往後延兩個 e.g. appley -> crrnga\n",
        "\n",
        "請破解加密過的文件\n",
        "\n",
        "\n",
        "[ ]\n",
        "  1\n",
        "  2\n",
        "  3\n",
        "  4\n",
        "  5\n",
        "  6\n",
        "  7\n",
        "  8\n",
        "  9\n",
        "  10\n",
        "  11\n",
        "  12\n",
        "s = \"\"\"原文\"\"\"\n",
        "# 原文最後一句: trouble will come of it\n",
        "f = open(\"password.txt\", \"w\", encoding=\"utf-8\")\n",
        "password =\n",
        "for c in s.lower():\n",
        "    if ord(\"a\") <= ord(c) <= ord(\"z\"):\n",
        "        n = ord(c) - ord(\"a\")\n",
        "        n = (n + password) % 26\n",
        "        f.write(chr(n + ord(\"a\")))\n",
        "    else:\n",
        "        f.write(c)\n",
        "f.close()\n",
        "\n",
        "三個雙引號包住的東西，裡面就可以換行 = > \"\"\" xxxx \"\"\"\n",
        "\n",
        "\n",
        "[6]\n",
        "0 秒\n",
        "  1\n",
        "  2\n",
        "  3\n",
        "  4\n",
        "  5\n",
        "  6\n",
        "  7\n",
        "  8\n",
        "  9\n",
        " 10\n",
        " 11\n",
        " 12\n",
        " 13\n",
        "from email import message\n",
        "import urllib.request as req\n",
        "\n",
        "url = \"https://github.com/Elwing-Chou/tibame1224/raw/refs/heads/main/password.txt\"\n",
        "req.urlretrieve(url, \"password.txt\")\n",
        "f = open(\"password.txt\", \"r\", encoding=\"utf-8\")\n",
        "message = f.read()\n",
        "print(message)\n",
        "f.close()\n",
        "\n",
        "# 密碼=某個值，我轉換成原文的程式長什麼樣?\n",
        "# 基於上面，做26次，看哪一個才是我的密碼。\n",
        "\n"
      ],
      "metadata": {
        "id": "9slE9Ng7dm5d"
      },
      "execution_count": null,
      "outputs": []
    },
    {
      "cell_type": "code",
      "source": [
        "寫入檔案版本：\n",
        "def caesar(secret, password):\n",
        "  text = \"\"\n",
        "  with open(\"password.txt\", \"w\", encoding=\"utf-8\") as f:\n",
        "    # 全部轉換成小寫\n",
        "    for c in secret.lower():\n",
        "      # 將字母轉成編碼數字\n",
        "      if ord(\"a\") <= ord(c) <= ord(\"z\"):\n",
        "        n = ord(c) - ord(\"a\")\n",
        "        n = (n - password) % 26\n",
        "        text += (chr(n + ord(\"a\")))\n",
        "        f.write(chr(n + ord(\"a\")))\n",
        "      else:\n",
        "        f.write(c)\n",
        "  return(text)\n",
        "  f.close()\n",
        "\n",
        "for password in range(26):\n",
        " text = caesar(secret, password)\n",
        " if \"trouble\" in text:\n",
        "    print(\"密碼:\", {password}, \"解密後的文字為:\", text)\n",
        "    break"
      ],
      "metadata": {
        "id": "cNfgXbA5vHZM"
      },
      "execution_count": null,
      "outputs": []
    },
    {
      "cell_type": "markdown",
      "source": [
        "!pip install ColabTurtle"
      ],
      "metadata": {
        "id": "SrGEnop4bisH"
      }
    },
    {
      "cell_type": "markdown",
      "source": [
        "# turtle"
      ],
      "metadata": {
        "id": "YFkWoXrJp4Ri"
      }
    },
    {
      "cell_type": "code",
      "source": [
        "# 九九乘法表 從1開始  x * y =\n",
        "for i in range(9):\n",
        "  n1 = i + 1\n",
        "  for j in range(9):\n",
        "    n2 = j + 1\n",
        "    ans = n1 * n2\n",
        "    print(n1, \"*\", n2, \"=\", ans)\n"
      ],
      "metadata": {
        "id": "Ua7amdrydxRt"
      },
      "execution_count": null,
      "outputs": []
    },
    {
      "cell_type": "code",
      "source": [
        "!pip install ColabTurtle"
      ],
      "metadata": {
        "colab": {
          "base_uri": "https://localhost:8080/"
        },
        "id": "bWHuK6zLd7M8",
        "outputId": "0cd10e71-10ca-4ced-d31d-2e621ce28acc"
      },
      "execution_count": null,
      "outputs": [
        {
          "output_type": "stream",
          "name": "stdout",
          "text": [
            "Requirement already satisfied: ColabTurtle in /usr/local/lib/python3.10/dist-packages (2.1.0)\n"
          ]
        }
      ]
    },
    {
      "cell_type": "code",
      "source": [
        "#裝入turtle\n",
        "import ColabTurtle.Turtle as turtle\n",
        "turtle.initializeTurtle()\n",
        "\n",
        "#設置畫筆\n",
        "turtle.color(\"green\")\n",
        "turtle.speed(10)\n",
        "turtle.pensize(10)\n",
        "\n",
        "#開始畫正方形\n",
        "#左上角座標都是(0,0)\n",
        "\n",
        "turtle.forward(100)\n",
        "turtle.right(90)\n",
        "turtle.forward(100)\n",
        "turtle.right(90)\n",
        "turtle.forward(100)\n",
        "turtle.right(90)\n",
        "turtle.forward(100)\n",
        "\n",
        "#拿起筆 空格\n",
        "turtle.penup()\n",
        "turtle.forward(100)\n",
        "turtle.pendown()\n",
        "turtle.forward(100)\n",
        "\n",
        "#到定點\n",
        "turtle.goto(100,100)\n",
        "\n",
        "#轉彎\n",
        "turtle.right(90)\n",
        "turtle.forward(50)\n",
        "turtle.right(90)\n",
        "turtle.forward(100)\n",
        "turtle.right(45)\n",
        "turtle.forward(150)\n",
        "turtle.right(45)\n",
        "turtle.forward(100)\n",
        "\n",
        "#得到現在座標\n",
        "print(turtle.pos())\n",
        "\n",
        "\n"
      ],
      "metadata": {
        "colab": {
          "base_uri": "https://localhost:8080/",
          "height": 538
        },
        "id": "ak0q0VjHbSf4",
        "outputId": "ffb48212-e4d3-4b44-880b-b82da33498a2"
      },
      "execution_count": null,
      "outputs": [
        {
          "output_type": "display_data",
          "data": {
            "text/plain": [
              "<IPython.core.display.HTML object>"
            ],
            "text/html": [
              "\n",
              "      <svg width=\"800\" height=\"500\">\n",
              "        <rect width=\"100%\" height=\"100%\" fill=\"black\"/>\n",
              "        <line x1=\"400\" y1=\"250\" x2=\"400.0\" y2=\"150.0\" stroke-linecap=\"round\" style=\"stroke:green;stroke-width:10\"/><line x1=\"400.0\" y1=\"150.0\" x2=\"500.0\" y2=\"150.0\" stroke-linecap=\"round\" style=\"stroke:green;stroke-width:10\"/><line x1=\"500.0\" y1=\"150.0\" x2=\"500.0\" y2=\"250.0\" stroke-linecap=\"round\" style=\"stroke:green;stroke-width:10\"/><line x1=\"500.0\" y1=\"250.0\" x2=\"400.0\" y2=\"250.0\" stroke-linecap=\"round\" style=\"stroke:green;stroke-width:10\"/><line x1=\"300.0\" y1=\"250.0\" x2=\"200.0\" y2=\"250.0\" stroke-linecap=\"round\" style=\"stroke:green;stroke-width:10\"/><line x1=\"200.0\" y1=\"250.0\" x2=\"100\" y2=\"100\" stroke-linecap=\"round\" style=\"stroke:green;stroke-width:10\"/><line x1=\"100\" y1=\"100\" x2=\"100.0\" y2=\"50.0\" stroke-linecap=\"round\" style=\"stroke:green;stroke-width:10\"/><line x1=\"100.0\" y1=\"50.0\" x2=\"200.0\" y2=\"50.0\" stroke-linecap=\"round\" style=\"stroke:green;stroke-width:10\"/><line x1=\"200.0\" y1=\"50.0\" x2=\"306.066\" y2=\"156.066\" stroke-linecap=\"round\" style=\"stroke:green;stroke-width:10\"/><line x1=\"306.066\" y1=\"156.066\" x2=\"306.066\" y2=\"256.066\" stroke-linecap=\"round\" style=\"stroke:green;stroke-width:10\"/>\n",
              "        <g visibility=visible transform=\"rotate(180,306.066,256.066) translate(288.066, 238.06599999999997)\">\n",
              "<path style=\" stroke:none;fill-rule:evenodd;fill:green;fill-opacity:1;\" d=\"M 18.214844 0.632812 C 16.109375 1.800781 15.011719 4.074219 15.074219 7.132812 L 15.085938 7.652344 L 14.785156 7.496094 C 13.476562 6.824219 11.957031 6.671875 10.40625 7.066406 C 8.46875 7.550781 6.515625 9.15625 4.394531 11.992188 C 3.0625 13.777344 2.679688 14.636719 3.042969 15.027344 L 3.15625 15.152344 L 3.519531 15.152344 C 4.238281 15.152344 4.828125 14.886719 8.1875 13.039062 C 9.386719 12.378906 10.371094 11.839844 10.378906 11.839844 C 10.386719 11.839844 10.355469 11.929688 10.304688 12.035156 C 9.832031 13.09375 9.257812 14.820312 8.96875 16.078125 C 7.914062 20.652344 8.617188 24.53125 11.070312 27.660156 C 11.351562 28.015625 11.363281 27.914062 10.972656 28.382812 C 8.925781 30.84375 7.945312 33.28125 8.238281 35.1875 C 8.289062 35.527344 8.28125 35.523438 8.917969 35.523438 C 10.941406 35.523438 13.074219 34.207031 15.136719 31.6875 C 15.359375 31.417969 15.328125 31.425781 15.5625 31.574219 C 16.292969 32.042969 18.023438 32.964844 18.175781 32.964844 C 18.335938 32.964844 19.941406 32.210938 20.828125 31.71875 C 20.996094 31.625 21.136719 31.554688 21.136719 31.558594 C 21.203125 31.664062 21.898438 32.414062 22.222656 32.730469 C 23.835938 34.300781 25.5625 35.132812 27.582031 35.300781 C 27.90625 35.328125 27.9375 35.308594 28.007812 34.984375 C 28.382812 33.242188 27.625 30.925781 25.863281 28.425781 L 25.542969 27.96875 L 25.699219 27.785156 C 28.945312 23.960938 29.132812 18.699219 26.257812 11.96875 L 26.207031 11.84375 L 27.945312 12.703125 C 31.53125 14.476562 32.316406 14.800781 33.03125 14.800781 C 33.976562 14.800781 33.78125 13.9375 32.472656 12.292969 C 28.519531 7.355469 25.394531 5.925781 21.921875 7.472656 L 21.558594 7.636719 L 21.578125 7.542969 C 21.699219 6.992188 21.761719 5.742188 21.699219 5.164062 C 21.496094 3.296875 20.664062 1.964844 19.003906 0.855469 C 18.480469 0.503906 18.457031 0.5 18.214844 0.632812\"/>\n",
              "</g>\n",
              "      </svg>\n",
              "    "
            ]
          },
          "metadata": {}
        },
        {
          "output_type": "stream",
          "name": "stdout",
          "text": [
            "(306.066, 256.066)\n"
          ]
        }
      ]
    },
    {
      "cell_type": "code",
      "source": [
        "第三題"
      ],
      "metadata": {
        "id": "LUAEZhBqowku"
      },
      "execution_count": null,
      "outputs": []
    }
  ]
}