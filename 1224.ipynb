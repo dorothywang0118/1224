{
  "cells": [
    {
      "cell_type": "markdown",
      "metadata": {
        "id": "view-in-github",
        "colab_type": "text"
      },
      "source": [
        "<a href=\"https://colab.research.google.com/github/dorothywang0118/1224/blob/main/1224.ipynb\" target=\"_parent\"><img src=\"https://colab.research.google.com/assets/colab-badge.svg\" alt=\"Open In Colab\"/></a>"
      ]
    },
    {
      "cell_type": "code",
      "execution_count": 11,
      "metadata": {
        "colab": {
          "base_uri": "https://localhost:8080/"
        },
        "id": "FCCh0a3ybEni",
        "outputId": "a035ed6a-8bf3-4590-b186-74ded03d7be1"
      },
      "outputs": [
        {
          "output_type": "stream",
          "name": "stdout",
          "text": [
            "hello\n",
            "170\n",
            "70\n",
            "11.868512110726645\n"
          ]
        }
      ],
      "source": [
        "# BMI = weight(kg) / height(cm)^2\n",
        "2+3\n",
        "print(\"hello\")\n",
        "height = 170\n",
        "weight = 70\n",
        "print(height)\n",
        "print(weight)\n",
        "print(weight / (height / weight) ** 2)"
      ]
    }
  ],
  "metadata": {
    "colab": {
      "provenance": [],
      "authorship_tag": "ABX9TyN92cWe/kY2vzQvlVG2c8pS",
      "include_colab_link": true
    },
    "kernelspec": {
      "display_name": "Python 3",
      "name": "python3"
    },
    "language_info": {
      "name": "python"
    }
  },
  "nbformat": 4,
  "nbformat_minor": 0
}