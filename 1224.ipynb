{
  "cells": [
    {
      "cell_type": "markdown",
      "metadata": {
        "id": "view-in-github",
        "colab_type": "text"
      },
      "source": [
        "<a href=\"https://colab.research.google.com/github/dorothywang0118/1224/blob/main/1224.ipynb\" target=\"_parent\"><img src=\"https://colab.research.google.com/assets/colab-badge.svg\" alt=\"Open In Colab\"/></a>"
      ]
    },
    {
      "cell_type": "code",
      "source": [
        "# bmi = weight(kg) / height(cm) ^ 2\n",
        "weight = float(input(\"請輸入體重:\"))\n",
        "height = float(input(\"請輸入身高:\"))\n",
        "bmi = weight / (height / 100) ** 2\n",
        "print(\"你的體重是:\" + str(weight))\n",
        "print(\"你的身高是:\" + str(height))\n",
        "print(\"bmi是:\" + str(bmi))\n",
        "\n",
        "if bmi > 25:\n",
        "    print(\"過重\")\n",
        "    print(\"少吃多動\")\n",
        "else:\n",
        "    print(\"正常\")"
      ],
      "metadata": {
        "id": "lj2Flq6zVQ1k"
      },
      "execution_count": null,
      "outputs": []
    },
    {
      "cell_type": "code",
      "source": [
        "import random\n",
        "\n",
        "my = int(input(\"0.剪刀 1.石頭 2.布:\"))\n",
        "com = random.randint(0, 2)\n",
        "trans = [\"剪刀\", \"石頭\" ,\"布\"]\n",
        "print(\"我出的:\", trans[my])\n",
        "print(\"電腦的:\", trans[com])\n",
        "\n",
        "# >, >=, <, <=, ==\n",
        "if my == (com + 1) % 3:\n",
        "    print(\"win\")\n",
        "elif com == (my + 1) % 3:\n",
        "    print(\"lose\")\n",
        "else:\n",
        "    print(\"even\")\n"
      ],
      "metadata": {
        "colab": {
          "base_uri": "https://localhost:8080/"
        },
        "id": "KW5zUWgUXrGt",
        "outputId": "92e242ac-a507-4d1b-94e2-83048ae3ff1e"
      },
      "execution_count": 3,
      "outputs": [
        {
          "output_type": "stream",
          "name": "stdout",
          "text": [
            "0.剪刀 1.石頭 2.布:2\n",
            "我出的: 布\n",
            "電腦的: 剪刀\n",
            "lose\n"
          ]
        }
      ]
    },
    {
      "cell_type": "code",
      "source": [
        "# 0 1 2 同一種拳\n",
        "# 3 4 5 同一種拳\n",
        "\n",
        "import random\n",
        "my = int(input(\"0-5:\"))\n",
        "\n",
        "\n",
        "trans = [\"剪刀\", \"石頭\", \"布\"]\n",
        "\n",
        "\n",
        "# 第一步:先判斷是否同組?\n",
        "# 取商:分組 取餘:循環\n",
        "mygroup = my // 3\n",
        "comgroup = com // 3\n",
        "\n",
        "if  mygroup == comgroup:\n",
        "  #情況1: my, com都是0~2\n",
        "  #情況2: my, com都是3~5\n",
        "  #如果是3~5 回到0~2(餘數)\n",
        "else:\n",
        "  print(\"平手\")"
      ],
      "metadata": {
        "id": "Tgq-tNfvtEJ1",
        "colab": {
          "base_uri": "https://localhost:8080/",
          "height": 106
        },
        "outputId": "00e3a4aa-5889-4dab-fcd3-3d48766d30e7"
      },
      "execution_count": 12,
      "outputs": [
        {
          "output_type": "error",
          "ename": "IndentationError",
          "evalue": "expected an indented block after 'if' statement on line 16 (<ipython-input-12-a725d5bf38bd>, line 20)",
          "traceback": [
            "\u001b[0;36m  File \u001b[0;32m\"<ipython-input-12-a725d5bf38bd>\"\u001b[0;36m, line \u001b[0;32m20\u001b[0m\n\u001b[0;31m    else\u001b[0m\n\u001b[0m    ^\u001b[0m\n\u001b[0;31mIndentationError\u001b[0m\u001b[0;31m:\u001b[0m expected an indented block after 'if' statement on line 16\n"
          ]
        }
      ]
    },
    {
      "cell_type": "code",
      "source": [
        "i = 0\n",
        "while i < 10:\n",
        "  print(\" \" * (i + 1))\n",
        "  i = i + 1"
      ],
      "metadata": {
        "colab": {
          "base_uri": "https://localhost:8080/"
        },
        "id": "cBM8JXUUJkKi",
        "outputId": "349ef9f5-9e62-4df9-baca-51f2c40eb41c"
      },
      "execution_count": 51,
      "outputs": [
        {
          "output_type": "stream",
          "name": "stdout",
          "text": [
            " \n",
            "  \n",
            "   \n",
            "    \n",
            "     \n",
            "      \n",
            "       \n",
            "        \n",
            "         \n",
            "          \n"
          ]
        }
      ]
    },
    {
      "cell_type": "code",
      "source": [
        "height = 10\n",
        "lsymbol, rsymbol = \" \", \"o\"\n",
        "i = 0\n",
        "while i < height:\n",
        "  lcount = height - i - 1\n",
        "  rcount = i + 1\n",
        "  print(lsymbol * lcount + rsymbol * rcount)\n",
        "  i = i + 1"
      ],
      "metadata": {
        "colab": {
          "base_uri": "https://localhost:8080/"
        },
        "id": "U81YA5QFdqWS",
        "outputId": "4cd41cd1-6042-4e51-fda9-daf17c858169"
      },
      "execution_count": 25,
      "outputs": [
        {
          "output_type": "stream",
          "name": "stdout",
          "text": [
            "         o\n",
            "        oo\n",
            "       ooo\n",
            "      oooo\n",
            "     ooooo\n",
            "    oooooo\n",
            "   ooooooo\n",
            "  oooooooo\n",
            " ooooooooo\n",
            "oooooooooo\n"
          ]
        }
      ]
    },
    {
      "cell_type": "code",
      "source": [
        "layer = 10\n",
        "lsymbol, msymbol, rsymbol = \".\", \"0\", \".\"\n",
        "i = 0\n",
        "while i < layer:\n",
        "  lcount = i\n",
        "  mcount = (layer * 2 - 1) - 2 * i\n",
        "  rcount = i\n",
        "\n",
        "  print(lsymbol * lcount +\n",
        "     msymbol * mcount +\n",
        "     rsymbol * rcount )\n",
        "  i = i + 1"
      ],
      "metadata": {
        "colab": {
          "base_uri": "https://localhost:8080/"
        },
        "id": "nmyEI5P8hycM",
        "outputId": "708db651-f085-4c22-8d02-3b672965f114"
      },
      "execution_count": 42,
      "outputs": [
        {
          "output_type": "stream",
          "name": "stdout",
          "text": [
            "0000000000000000000\n",
            ".00000000000000000.\n",
            "..000000000000000..\n",
            "...0000000000000...\n",
            "....00000000000....\n",
            ".....000000000.....\n",
            "......0000000......\n",
            ".......00000.......\n",
            "........000........\n",
            ".........0.........\n"
          ]
        }
      ]
    },
    {
      "cell_type": "code",
      "source": [
        "#被2整除的是偶數，有餘數的是奇數\n",
        "layer = 10\n",
        "i = 0\n",
        "# lsymbol, msymbol, rsymbol = \"0\", \".\" ,\"x\"\n",
        "\n",
        "while i < layer:\n",
        "  if i % 2 == 0:\n",
        "    lsymbol, msymbol, rsymbol = \" \", \"o\", \" \"\n",
        "  else:\n",
        "    lsymbol, msymbol, rsymbol = \" \", \"x\", \" \"\n",
        "  lcount = i\n",
        "  mcount = (2 * layer - 1) - 2 * i\n",
        "  rcount = i\n",
        "  print (lsymbol * lcount +\n",
        "      msymbol * mcount +\n",
        "      rsymbol * rcount)\n",
        "  i = i + 1\n"
      ],
      "metadata": {
        "colab": {
          "base_uri": "https://localhost:8080/"
        },
        "id": "KiBxM-f5nIhj",
        "outputId": "92922463-0690-4bba-ea00-589abab9bc01"
      },
      "execution_count": 47,
      "outputs": [
        {
          "output_type": "stream",
          "name": "stdout",
          "text": [
            "ooooooooooooooooooo\n",
            " xxxxxxxxxxxxxxxxx \n",
            "  ooooooooooooooo  \n",
            "   xxxxxxxxxxxxx   \n",
            "    ooooooooooo    \n",
            "     xxxxxxxxx     \n",
            "      ooooooo      \n",
            "       xxxxx       \n",
            "        ooo        \n",
            "         x         \n"
          ]
        }
      ]
    },
    {
      "cell_type": "code",
      "source": [
        "#如果要換符號呢?考慮其擴充性\n",
        "\n",
        "\n",
        "symbols = [\"\\u2660\", \"\\u2661\", \"\\u2662\", \"\\u2663\"]\n",
        "layer = 10\n",
        "i = 0\n",
        "while i < layer:\n",
        "  lsymbol = \" \"\n",
        "  msymbol = symbols[i%len(symbols)]\n",
        "  rsymbol = \" \"\n",
        "\n",
        "  lcount = i\n",
        "  mcount = (2 * layer - 1) - 2 * i\n",
        "  rcount = i\n",
        "  print (lsymbol * lcount +\n",
        "      msymbol * mcount +\n",
        "      rsymbol * rcount)\n",
        "  i = i + 1"
      ],
      "metadata": {
        "colab": {
          "base_uri": "https://localhost:8080/"
        },
        "id": "ec_BbAclr5Zi",
        "outputId": "c20b1b52-6c35-443c-fae5-9ce580120283"
      },
      "execution_count": 48,
      "outputs": [
        {
          "output_type": "stream",
          "name": "stdout",
          "text": [
            "♠♠♠♠♠♠♠♠♠♠♠♠♠♠♠♠♠♠♠\n",
            " ♡♡♡♡♡♡♡♡♡♡♡♡♡♡♡♡♡ \n",
            "  ♢♢♢♢♢♢♢♢♢♢♢♢♢♢♢  \n",
            "   ♣♣♣♣♣♣♣♣♣♣♣♣♣   \n",
            "    ♠♠♠♠♠♠♠♠♠♠♠    \n",
            "     ♡♡♡♡♡♡♡♡♡     \n",
            "      ♢♢♢♢♢♢♢      \n",
            "       ♣♣♣♣♣       \n",
            "        ♠♠♠        \n",
            "         ♡         \n"
          ]
        }
      ]
    },
    {
      "cell_type": "code",
      "source": [
        "# 記憶體迴圈 算完結果要累計，記憶體要放外面\n",
        "total = 0\n",
        "i = 0\n",
        "while i < 10:\n",
        "  total = total + (i + 1)\n",
        "  print(total)\n",
        "  i = i + 1\n",
        "\n"
      ],
      "metadata": {
        "colab": {
          "base_uri": "https://localhost:8080/"
        },
        "collapsed": true,
        "id": "S0_91GPxGl9_",
        "outputId": "b8198a9c-4f06-4b29-a46d-ada85d95f0b6"
      },
      "execution_count": 50,
      "outputs": [
        {
          "output_type": "stream",
          "name": "stdout",
          "text": [
            "1\n",
            "3\n",
            "6\n",
            "10\n",
            "15\n",
            "21\n",
            "28\n",
            "36\n",
            "45\n",
            "55\n"
          ]
        }
      ]
    },
    {
      "cell_type": "code",
      "source": [
        "a,b = 2, 7\n",
        "ans = \"0.\"\n",
        "i = 0\n",
        "while i < 10:\n",
        "  # 2補0 -> 20\n",
        "  a10 = a * 10\n",
        "  # 取商 20 // 7\n",
        "  ans = ans + str(a10 // b)\n",
        "  # 取餘 20 % 7\n",
        "  a = a10 % b\n",
        "  print(ans)\n",
        "  i = i + 1"
      ],
      "metadata": {
        "colab": {
          "base_uri": "https://localhost:8080/"
        },
        "collapsed": true,
        "id": "ZTzLjiNfHZql",
        "outputId": "fe61f68b-02b7-4033-9412-9389c9afb146"
      },
      "execution_count": 53,
      "outputs": [
        {
          "output_type": "stream",
          "name": "stdout",
          "text": [
            "0.2\n",
            "0.28\n",
            "0.285\n",
            "0.2857\n",
            "0.28571\n",
            "0.285714\n",
            "0.2857142\n",
            "0.28571428\n",
            "0.285714285\n",
            "0.2857142857\n"
          ]
        }
      ]
    },
    {
      "cell_type": "code",
      "source": [
        "s = \"asdfsDfgvv ,, WqeRrwqr. wQr123123rqw5tAfg\"\n",
        "# 英文大小寫, 統計s裡面多少個大小寫。\n",
        "lcase, ucase = 0, 0\n",
        "i = 0\n",
        "while i < len(s):\n",
        "  # s[i]\n",
        "  n = ord(s[i])\n",
        "  if ord(\"A\") <= n <= ord(\"Z\"):\n",
        "    ucase = ucase + 1\n",
        "  elif ord(\"a\") <= n <= ord(\"z\"):\n",
        "    lcase = lcase + 1\n",
        "  i = i + 1\n",
        "\n",
        "  print(ucase, lcase)\n"
      ],
      "metadata": {
        "colab": {
          "base_uri": "https://localhost:8080/"
        },
        "collapsed": true,
        "id": "Jgw9ih4KMPEt",
        "outputId": "21b60774-45f7-46cd-b737-341fec7893c7"
      },
      "execution_count": 61,
      "outputs": [
        {
          "output_type": "stream",
          "name": "stdout",
          "text": [
            "0 1\n",
            "0 2\n",
            "0 3\n",
            "0 4\n",
            "0 5\n",
            "1 5\n",
            "1 6\n",
            "1 7\n",
            "1 8\n",
            "1 9\n",
            "1 9\n",
            "1 9\n",
            "1 9\n",
            "1 9\n",
            "2 9\n",
            "2 10\n",
            "2 11\n",
            "3 11\n",
            "3 12\n",
            "3 13\n",
            "3 14\n",
            "3 15\n",
            "3 15\n",
            "3 15\n",
            "3 16\n",
            "4 16\n",
            "4 17\n",
            "4 17\n",
            "4 17\n",
            "4 17\n",
            "4 17\n",
            "4 17\n",
            "4 17\n",
            "4 18\n",
            "4 19\n",
            "4 20\n",
            "4 20\n",
            "4 21\n",
            "5 21\n",
            "5 22\n",
            "5 23\n"
          ]
        }
      ]
    },
    {
      "cell_type": "code",
      "source": [
        "# 每一個字母各自有幾個\n",
        "s = \"asdfsDfgvv ,, WqeRrwqr. wQr123123rqw5tAfg\"\n",
        "# 要用list\n",
        "ucases = [0] * 26\n",
        "lcases = [0] * 26\n",
        "\n",
        "\n",
        "i = 0\n",
        "while i < len(s):\n",
        "  n = ord(s[i])\n",
        "  if ord(\"A\") <= n <= ord(\"Z\"):\n",
        "    # 65 ~ 90  要把它變成從0開始\n",
        "    n = n - ord(\"A\")\n",
        "    ucases[n] = ucases[n] + 1\n",
        "\n",
        "  elif ord(\"a\") <= n <= ord(\"z\"):\n",
        "    # 97 ~ 122 要把它變成從0開始\n",
        "    n = n - ord(\"a\")\n",
        "    lcases[n] = lcases[n] + 1\n",
        "  i = i + 1\n",
        "0\n",
        "print(ucases)\n",
        "print(lcases)\n"
      ],
      "metadata": {
        "colab": {
          "base_uri": "https://localhost:8080/"
        },
        "id": "daQXdkNrNjWG",
        "outputId": "082afa1b-1140-4fd3-ab72-c5226a5d2ef4"
      },
      "execution_count": 67,
      "outputs": [
        {
          "output_type": "stream",
          "name": "stdout",
          "text": [
            "[1, 0, 0, 1, 0, 0, 0, 0, 0, 0, 0, 0, 0, 0, 0, 0, 1, 1, 0, 0, 0, 0, 1, 0, 0, 0]\n",
            "[1, 0, 0, 1, 1, 3, 2, 0, 0, 0, 0, 0, 0, 0, 0, 0, 3, 4, 2, 1, 0, 2, 3, 0, 0, 0]\n"
          ]
        }
      ]
    },
    {
      "cell_type": "code",
      "source": [
        "l = [1, 2, 3]\n",
        "l[1] = 900\n",
        "l[2] = l[2] + 100\n",
        "print(1)"
      ],
      "metadata": {
        "colab": {
          "base_uri": "https://localhost:8080/"
        },
        "id": "-_kRs494SedA",
        "outputId": "3e8bc188-7d4e-47a5-e1d6-b2ea40fec3b7"
      },
      "execution_count": 65,
      "outputs": [
        {
          "output_type": "stream",
          "name": "stdout",
          "text": [
            "1\n"
          ]
        }
      ]
    }
  ],
  "metadata": {
    "colab": {
      "provenance": [],
      "authorship_tag": "ABX9TyMhkuycOzofjMtU1y7UUppy",
      "include_colab_link": true
    },
    "kernelspec": {
      "display_name": "Python 3",
      "name": "python3"
    },
    "language_info": {
      "name": "python"
    }
  },
  "nbformat": 4,
  "nbformat_minor": 0
}